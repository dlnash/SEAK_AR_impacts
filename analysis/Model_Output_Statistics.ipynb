{
 "cells": [
  {
   "cell_type": "code",
   "execution_count": 1,
   "id": "4eb8c005-de21-470f-9b3b-d37b7741ca0d",
   "metadata": {},
   "outputs": [],
   "source": [
    "import statsmodels.api as sm\n",
    "import numpy as np\n",
    "import pandas as pd\n",
    "import glob\n",
    "import matplotlib.pyplot as plt"
   ]
  },
  {
   "cell_type": "code",
   "execution_count": 2,
   "id": "3faa5768-fd6c-4f4a-8c42-d0bd18c7dfaa",
   "metadata": {},
   "outputs": [],
   "source": [
    "path_to_data = '/cw3e/mead/projects/cwp140/scratch/dnash/data/'      # project data -- read only\n",
    "path_to_out  = '../out/'       # output files (numerical results, intermediate datafiles) -- read & write\n",
    "path_to_figs = '../figs/'      # figures"
   ]
  },
  {
   "cell_type": "code",
   "execution_count": 4,
   "id": "3d8c31f6-d2e4-4c12-8748-7cf52db2076f",
   "metadata": {},
   "outputs": [
    {
     "name": "stdout",
     "output_type": "stream",
     "text": [
      "['../out/combined_df_HONA2.csv', '../out/combined_df_PAYA.csv', '../out/combined_df_PAPG.csv', '../out/combined_df_PAHN.csv', '../out/combined_df_PAKW.csv', '../out/combined_df_COOPHCSA2.csv', '../out/combined_df_KTNA2.csv', '../out/combined_df_PAGY.csv', '../out/combined_df_PAJN.csv', '../out/combined_df_PAWG.csv', '../out/combined_df_PAGS.csv', '../out/combined_df_PASI.csv', '../out/combined_df_PAKT.csv']\n"
     ]
    },
    {
     "data": {
      "text/plain": [
       "['trackID',\n",
       " 'Unnamed: 0',\n",
       " 'trackID.1',\n",
       " 'start_date',\n",
       " 'end_date',\n",
       " 'duration',\n",
       " 'IVT_max',\n",
       " 'IVT_max_time',\n",
       " 'IVT_dir',\n",
       " 'tIVT',\n",
       " 'freezing_level',\n",
       " 'ar_scale',\n",
       " 'GFS_prec_accum',\n",
       " 'GFS_prec_max_rate',\n",
       " 'ASOS_prec_accum',\n",
       " 'ASOS_1hr',\n",
       " 'ASOS_3hr',\n",
       " 'ASOS_6hr',\n",
       " 'ASOS_12hr',\n",
       " 'ASOS_24hr',\n",
       " 'impact_scale',\n",
       " 'impacts',\n",
       " 'impact_notes',\n",
       " 'impact_type',\n",
       " 'misc']"
      ]
     },
     "execution_count": 4,
     "metadata": {},
     "output_type": "execute_result"
    }
   ],
   "source": [
    "fname_lst = glob.glob('../out/combined_df_*.csv')\n",
    "print(fname_lst)\n",
    "df_lst = []\n",
    "df_lst2 = [] # whole dataset\n",
    "for i, fname in enumerate(fname_lst):   \n",
    "    df = pd.read_csv(fname)\n",
    "    \n",
    "    ## clean freezing level - set to nan where freezing level > 10000 m\n",
    "    df.loc[(df.freezing_level > 10000), 'freezing_level'] = np.nan \n",
    "    \n",
    "    ## clean ASOS_1hr - set to nan where ASOS_1hr > 200 mm per hour\n",
    "    df.loc[(df.ASOS_1hr > 50), 'ASOS_1hr'] = np.nan\n",
    "    df.loc[((df.ASOS_prec_accum > 600) | (df.ASOS_prec_accum < 0)), 'ASOS_prec_accum'] = np.nan \n",
    "    \n",
    "    df_lst2.append(df)\n",
    "    df = df.loc[df['impact_scale'] >= 0]\n",
    "    \n",
    "    df_lst.append(df)\n",
    "    \n",
    "result = pd.concat(df_lst)\n",
    "list(df_lst2[0].columns)"
   ]
  },
  {
   "cell_type": "code",
   "execution_count": 6,
   "id": "cb3efcd4-0685-4404-9d96-9d6e00626f40",
   "metadata": {},
   "outputs": [
    {
     "data": {
      "text/html": [
       "<table class=\"simpletable\">\n",
       "<caption>OLS Regression Results</caption>\n",
       "<tr>\n",
       "  <th>Dep. Variable:</th>     <td>GFS_prec_accum</td>  <th>  R-squared:         </th> <td>   0.231</td>\n",
       "</tr>\n",
       "<tr>\n",
       "  <th>Model:</th>                   <td>OLS</td>       <th>  Adj. R-squared:    </th> <td>   0.228</td>\n",
       "</tr>\n",
       "<tr>\n",
       "  <th>Method:</th>             <td>Least Squares</td>  <th>  F-statistic:       </th> <td>   86.46</td>\n",
       "</tr>\n",
       "<tr>\n",
       "  <th>Date:</th>             <td>Thu, 16 Nov 2023</td> <th>  Prob (F-statistic):</th> <td>3.70e-18</td>\n",
       "</tr>\n",
       "<tr>\n",
       "  <th>Time:</th>                 <td>12:05:27</td>     <th>  Log-Likelihood:    </th> <td> -1758.2</td>\n",
       "</tr>\n",
       "<tr>\n",
       "  <th>No. Observations:</th>      <td>   290</td>      <th>  AIC:               </th> <td>   3520.</td>\n",
       "</tr>\n",
       "<tr>\n",
       "  <th>Df Residuals:</th>          <td>   288</td>      <th>  BIC:               </th> <td>   3528.</td>\n",
       "</tr>\n",
       "<tr>\n",
       "  <th>Df Model:</th>              <td>     1</td>      <th>                     </th>     <td> </td>   \n",
       "</tr>\n",
       "<tr>\n",
       "  <th>Covariance Type:</th>      <td>nonrobust</td>    <th>                     </th>     <td> </td>   \n",
       "</tr>\n",
       "</table>\n",
       "<table class=\"simpletable\">\n",
       "<tr>\n",
       "         <td></td>            <th>coef</th>     <th>std err</th>      <th>t</th>      <th>P>|t|</th>  <th>[0.025</th>    <th>0.975]</th>  \n",
       "</tr>\n",
       "<tr>\n",
       "  <th>Intercept</th>       <td>   69.2058</td> <td>    7.703</td> <td>    8.985</td> <td> 0.000</td> <td>   54.045</td> <td>   84.366</td>\n",
       "</tr>\n",
       "<tr>\n",
       "  <th>ASOS_prec_accum</th> <td>    0.4698</td> <td>    0.051</td> <td>    9.298</td> <td> 0.000</td> <td>    0.370</td> <td>    0.569</td>\n",
       "</tr>\n",
       "</table>\n",
       "<table class=\"simpletable\">\n",
       "<tr>\n",
       "  <th>Omnibus:</th>       <td>89.591</td> <th>  Durbin-Watson:     </th> <td>   1.701</td>\n",
       "</tr>\n",
       "<tr>\n",
       "  <th>Prob(Omnibus):</th> <td> 0.000</td> <th>  Jarque-Bera (JB):  </th> <td> 207.056</td>\n",
       "</tr>\n",
       "<tr>\n",
       "  <th>Skew:</th>          <td> 1.505</td> <th>  Prob(JB):          </th> <td>1.09e-45</td>\n",
       "</tr>\n",
       "<tr>\n",
       "  <th>Kurtosis:</th>      <td> 5.841</td> <th>  Cond. No.          </th> <td>    192.</td>\n",
       "</tr>\n",
       "</table><br/><br/>Notes:<br/>[1] Standard Errors assume that the covariance matrix of the errors is correctly specified."
      ],
      "text/latex": [
       "\\begin{center}\n",
       "\\begin{tabular}{lclc}\n",
       "\\toprule\n",
       "\\textbf{Dep. Variable:}    & GFS\\_prec\\_accum & \\textbf{  R-squared:         } &     0.231   \\\\\n",
       "\\textbf{Model:}            &       OLS        & \\textbf{  Adj. R-squared:    } &     0.228   \\\\\n",
       "\\textbf{Method:}           &  Least Squares   & \\textbf{  F-statistic:       } &     86.46   \\\\\n",
       "\\textbf{Date:}             & Thu, 16 Nov 2023 & \\textbf{  Prob (F-statistic):} &  3.70e-18   \\\\\n",
       "\\textbf{Time:}             &     12:05:27     & \\textbf{  Log-Likelihood:    } &   -1758.2   \\\\\n",
       "\\textbf{No. Observations:} &         290      & \\textbf{  AIC:               } &     3520.   \\\\\n",
       "\\textbf{Df Residuals:}     &         288      & \\textbf{  BIC:               } &     3528.   \\\\\n",
       "\\textbf{Df Model:}         &           1      & \\textbf{                     } &             \\\\\n",
       "\\textbf{Covariance Type:}  &    nonrobust     & \\textbf{                     } &             \\\\\n",
       "\\bottomrule\n",
       "\\end{tabular}\n",
       "\\begin{tabular}{lcccccc}\n",
       "                           & \\textbf{coef} & \\textbf{std err} & \\textbf{t} & \\textbf{P$> |$t$|$} & \\textbf{[0.025} & \\textbf{0.975]}  \\\\\n",
       "\\midrule\n",
       "\\textbf{Intercept}         &      69.2058  &        7.703     &     8.985  &         0.000        &       54.045    &       84.366     \\\\\n",
       "\\textbf{ASOS\\_prec\\_accum} &       0.4698  &        0.051     &     9.298  &         0.000        &        0.370    &        0.569     \\\\\n",
       "\\bottomrule\n",
       "\\end{tabular}\n",
       "\\begin{tabular}{lclc}\n",
       "\\textbf{Omnibus:}       & 89.591 & \\textbf{  Durbin-Watson:     } &    1.701  \\\\\n",
       "\\textbf{Prob(Omnibus):} &  0.000 & \\textbf{  Jarque-Bera (JB):  } &  207.056  \\\\\n",
       "\\textbf{Skew:}          &  1.505 & \\textbf{  Prob(JB):          } & 1.09e-45  \\\\\n",
       "\\textbf{Kurtosis:}      &  5.841 & \\textbf{  Cond. No.          } &     192.  \\\\\n",
       "\\bottomrule\n",
       "\\end{tabular}\n",
       "%\\caption{OLS Regression Results}\n",
       "\\end{center}\n",
       "\n",
       "Notes: \\newline\n",
       " [1] Standard Errors assume that the covariance matrix of the errors is correctly specified."
      ],
      "text/plain": [
       "<class 'statsmodels.iolib.summary.Summary'>\n",
       "\"\"\"\n",
       "                            OLS Regression Results                            \n",
       "==============================================================================\n",
       "Dep. Variable:         GFS_prec_accum   R-squared:                       0.231\n",
       "Model:                            OLS   Adj. R-squared:                  0.228\n",
       "Method:                 Least Squares   F-statistic:                     86.46\n",
       "Date:                Thu, 16 Nov 2023   Prob (F-statistic):           3.70e-18\n",
       "Time:                        12:05:27   Log-Likelihood:                -1758.2\n",
       "No. Observations:                 290   AIC:                             3520.\n",
       "Df Residuals:                     288   BIC:                             3528.\n",
       "Df Model:                           1                                         \n",
       "Covariance Type:            nonrobust                                         \n",
       "===================================================================================\n",
       "                      coef    std err          t      P>|t|      [0.025      0.975]\n",
       "-----------------------------------------------------------------------------------\n",
       "Intercept          69.2058      7.703      8.985      0.000      54.045      84.366\n",
       "ASOS_prec_accum     0.4698      0.051      9.298      0.000       0.370       0.569\n",
       "==============================================================================\n",
       "Omnibus:                       89.591   Durbin-Watson:                   1.701\n",
       "Prob(Omnibus):                  0.000   Jarque-Bera (JB):              207.056\n",
       "Skew:                           1.505   Prob(JB):                     1.09e-45\n",
       "Kurtosis:                       5.841   Cond. No.                         192.\n",
       "==============================================================================\n",
       "\n",
       "Notes:\n",
       "[1] Standard Errors assume that the covariance matrix of the errors is correctly specified.\n",
       "\"\"\""
      ]
     },
     "execution_count": 6,
     "metadata": {},
     "output_type": "execute_result"
    }
   ],
   "source": [
    "model_lin = sm.OLS.from_formula(\"GFS_prec_accum ~ ASOS_prec_accum\", data=result)\n",
    "res = model_lin.fit()\n",
    "res.summary()"
   ]
  },
  {
   "cell_type": "code",
   "execution_count": 30,
   "id": "bdc7f9d3-5423-437d-852a-a90fed282329",
   "metadata": {},
   "outputs": [
    {
     "name": "stdout",
     "output_type": "stream",
     "text": [
      "../out/combined_df_COOPHOOA2.csv\n",
      "../out/combined_df_PAYA.csv\n",
      "../out/combined_df_PAPG.csv\n",
      "../out/combined_df_PAHN.csv\n",
      "../out/combined_df_PAKW.csv\n",
      "../out/combined_df_COOPHCSA2.csv\n",
      "../out/combined_df_KTNA2.csv\n",
      "../out/combined_df_PAGY.csv\n",
      "../out/combined_df_PAJN.csv\n",
      "../out/combined_df_PAWG.csv\n",
      "../out/combined_df_PAGS.csv\n",
      "../out/combined_df_PASI.csv\n",
      "../out/combined_df_PAKT.csv\n",
      "../out/combined_df_COOPPECA2.csv\n"
     ]
    },
    {
     "name": "stderr",
     "output_type": "stream",
     "text": [
      "/home/dnash/miniconda3/envs/SEAK-impacts/lib/python3.12/site-packages/scipy/stats/_stats_py.py:1806: UserWarning: kurtosistest only valid for n>=20 ... continuing anyway, n=10\n",
      "  warnings.warn(\"kurtosistest only valid for n>=20 ... continuing \"\n",
      "/home/dnash/miniconda3/envs/SEAK-impacts/lib/python3.12/site-packages/scipy/stats/_stats_py.py:1806: UserWarning: kurtosistest only valid for n>=20 ... continuing anyway, n=15\n",
      "  warnings.warn(\"kurtosistest only valid for n>=20 ... continuing \"\n",
      "/home/dnash/miniconda3/envs/SEAK-impacts/lib/python3.12/site-packages/statsmodels/regression/linear_model.py:1781: RuntimeWarning: invalid value encountered in scalar divide\n",
      "  return 1 - self.ssr/self.centered_tss\n",
      "/home/dnash/miniconda3/envs/SEAK-impacts/lib/python3.12/site-packages/statsmodels/regression/linear_model.py:1870: RuntimeWarning: invalid value encountered in scalar divide\n",
      "  return self.mse_model/self.mse_resid\n",
      "/home/dnash/miniconda3/envs/SEAK-impacts/lib/python3.12/site-packages/statsmodels/regression/linear_model.py:956: RuntimeWarning: divide by zero encountered in log\n",
      "  llf = -nobs2*np.log(2*np.pi) - nobs2*np.log(ssr / nobs) - nobs2\n",
      "/home/dnash/miniconda3/envs/SEAK-impacts/lib/python3.12/site-packages/statsmodels/stats/stattools.py:50: RuntimeWarning: invalid value encountered in scalar divide\n",
      "  dw = np.sum(diff_resids**2, axis=axis) / np.sum(resids**2, axis=axis)\n",
      "/home/dnash/miniconda3/envs/SEAK-impacts/lib/python3.12/site-packages/statsmodels/stats/stattools.py:74: ValueWarning: omni_normtest is not valid with less than 8 observations; 5 samples were given.\n",
      "  warn(\"omni_normtest is not valid with less than 8 observations; %i \"\n",
      "/home/dnash/miniconda3/envs/SEAK-impacts/lib/python3.12/site-packages/statsmodels/regression/linear_model.py:1794: RuntimeWarning: divide by zero encountered in divide\n",
      "  return 1 - (np.divide(self.nobs - self.k_constant, self.df_resid)\n",
      "/home/dnash/miniconda3/envs/SEAK-impacts/lib/python3.12/site-packages/statsmodels/regression/linear_model.py:1716: RuntimeWarning: divide by zero encountered in scalar divide\n",
      "  return np.dot(wresid, wresid) / self.df_resid\n",
      "/home/dnash/miniconda3/envs/SEAK-impacts/lib/python3.12/site-packages/scipy/stats/_stats_py.py:1806: UserWarning: kurtosistest only valid for n>=20 ... continuing anyway, n=11\n",
      "  warnings.warn(\"kurtosistest only valid for n>=20 ... continuing \"\n",
      "/home/dnash/miniconda3/envs/SEAK-impacts/lib/python3.12/site-packages/scipy/stats/_stats_py.py:1806: UserWarning: kurtosistest only valid for n>=20 ... continuing anyway, n=19\n",
      "  warnings.warn(\"kurtosistest only valid for n>=20 ... continuing \"\n",
      "/home/dnash/miniconda3/envs/SEAK-impacts/lib/python3.12/site-packages/scipy/stats/_stats_py.py:1806: UserWarning: kurtosistest only valid for n>=20 ... continuing anyway, n=10\n",
      "  warnings.warn(\"kurtosistest only valid for n>=20 ... continuing \"\n",
      "/home/dnash/miniconda3/envs/SEAK-impacts/lib/python3.12/site-packages/statsmodels/stats/stattools.py:74: ValueWarning: omni_normtest is not valid with less than 8 observations; 6 samples were given.\n",
      "  warn(\"omni_normtest is not valid with less than 8 observations; %i \"\n",
      "/home/dnash/miniconda3/envs/SEAK-impacts/lib/python3.12/site-packages/statsmodels/regression/linear_model.py:1794: RuntimeWarning: divide by zero encountered in divide\n",
      "  return 1 - (np.divide(self.nobs - self.k_constant, self.df_resid)\n",
      "/home/dnash/miniconda3/envs/SEAK-impacts/lib/python3.12/site-packages/statsmodels/regression/linear_model.py:1794: RuntimeWarning: invalid value encountered in scalar multiply\n",
      "  return 1 - (np.divide(self.nobs - self.k_constant, self.df_resid)\n",
      "/home/dnash/miniconda3/envs/SEAK-impacts/lib/python3.12/site-packages/statsmodels/regression/linear_model.py:1716: RuntimeWarning: divide by zero encountered in scalar divide\n",
      "  return np.dot(wresid, wresid) / self.df_resid\n",
      "/home/dnash/miniconda3/envs/SEAK-impacts/lib/python3.12/site-packages/statsmodels/stats/stattools.py:74: ValueWarning: omni_normtest is not valid with less than 8 observations; 7 samples were given.\n",
      "  warn(\"omni_normtest is not valid with less than 8 observations; %i \"\n",
      "/home/dnash/miniconda3/envs/SEAK-impacts/lib/python3.12/site-packages/scipy/stats/_stats_py.py:1806: UserWarning: kurtosistest only valid for n>=20 ... continuing anyway, n=15\n",
      "  warnings.warn(\"kurtosistest only valid for n>=20 ... continuing \"\n"
     ]
    },
    {
     "ename": "ValueError",
     "evalue": "resids must contain at least 2 elements",
     "output_type": "error",
     "traceback": [
      "\u001b[0;31m---------------------------------------------------------------------------\u001b[0m",
      "\u001b[0;31mValueError\u001b[0m                                Traceback (most recent call last)",
      "Cell \u001b[0;32mIn[30], line 5\u001b[0m\n\u001b[1;32m      3\u001b[0m model_lin \u001b[38;5;241m=\u001b[39m sm\u001b[38;5;241m.\u001b[39mOLS\u001b[38;5;241m.\u001b[39mfrom_formula(\u001b[38;5;124m\"\u001b[39m\u001b[38;5;124mimpact_scale ~ IVT_max + duration + freezing_level + IVT_dir + tIVT\u001b[39m\u001b[38;5;124m\"\u001b[39m, data\u001b[38;5;241m=\u001b[39mdf)\n\u001b[1;32m      4\u001b[0m res \u001b[38;5;241m=\u001b[39m model_lin\u001b[38;5;241m.\u001b[39mfit()\n\u001b[0;32m----> 5\u001b[0m \u001b[43mres\u001b[49m\u001b[38;5;241;43m.\u001b[39;49m\u001b[43msummary\u001b[49m\u001b[43m(\u001b[49m\u001b[43m)\u001b[49m\n",
      "File \u001b[0;32m~/miniconda3/envs/SEAK-impacts/lib/python3.12/site-packages/statsmodels/regression/linear_model.py:2740\u001b[0m, in \u001b[0;36mRegressionResults.summary\u001b[0;34m(self, yname, xname, title, alpha, slim)\u001b[0m\n\u001b[1;32m   2737\u001b[0m alpha \u001b[38;5;241m=\u001b[39m float_like(alpha, \u001b[38;5;124m\"\u001b[39m\u001b[38;5;124malpha\u001b[39m\u001b[38;5;124m\"\u001b[39m, optional\u001b[38;5;241m=\u001b[39m\u001b[38;5;28;01mFalse\u001b[39;00m)\n\u001b[1;32m   2738\u001b[0m slim \u001b[38;5;241m=\u001b[39m bool_like(slim, \u001b[38;5;124m\"\u001b[39m\u001b[38;5;124mslim\u001b[39m\u001b[38;5;124m\"\u001b[39m, optional\u001b[38;5;241m=\u001b[39m\u001b[38;5;28;01mFalse\u001b[39;00m, strict\u001b[38;5;241m=\u001b[39m\u001b[38;5;28;01mTrue\u001b[39;00m)\n\u001b[0;32m-> 2740\u001b[0m jb, jbpv, skew, kurtosis \u001b[38;5;241m=\u001b[39m \u001b[43mjarque_bera\u001b[49m\u001b[43m(\u001b[49m\u001b[38;5;28;43mself\u001b[39;49m\u001b[38;5;241;43m.\u001b[39;49m\u001b[43mwresid\u001b[49m\u001b[43m)\u001b[49m\n\u001b[1;32m   2741\u001b[0m omni, omnipv \u001b[38;5;241m=\u001b[39m omni_normtest(\u001b[38;5;28mself\u001b[39m\u001b[38;5;241m.\u001b[39mwresid)\n\u001b[1;32m   2743\u001b[0m eigvals \u001b[38;5;241m=\u001b[39m \u001b[38;5;28mself\u001b[39m\u001b[38;5;241m.\u001b[39meigenvals\n",
      "File \u001b[0;32m~/miniconda3/envs/SEAK-impacts/lib/python3.12/site-packages/statsmodels/stats/stattools.py:123\u001b[0m, in \u001b[0;36mjarque_bera\u001b[0;34m(resids, axis)\u001b[0m\n\u001b[1;32m    121\u001b[0m resids \u001b[38;5;241m=\u001b[39m np\u001b[38;5;241m.\u001b[39matleast_1d(np\u001b[38;5;241m.\u001b[39masarray(resids, dtype\u001b[38;5;241m=\u001b[39m\u001b[38;5;28mfloat\u001b[39m))\n\u001b[1;32m    122\u001b[0m \u001b[38;5;28;01mif\u001b[39;00m resids\u001b[38;5;241m.\u001b[39msize \u001b[38;5;241m<\u001b[39m \u001b[38;5;241m2\u001b[39m:\n\u001b[0;32m--> 123\u001b[0m     \u001b[38;5;28;01mraise\u001b[39;00m \u001b[38;5;167;01mValueError\u001b[39;00m(\u001b[38;5;124m\"\u001b[39m\u001b[38;5;124mresids must contain at least 2 elements\u001b[39m\u001b[38;5;124m\"\u001b[39m)\n\u001b[1;32m    124\u001b[0m \u001b[38;5;66;03m# Calculate residual skewness and kurtosis\u001b[39;00m\n\u001b[1;32m    125\u001b[0m skew \u001b[38;5;241m=\u001b[39m stats\u001b[38;5;241m.\u001b[39mskew(resids, axis\u001b[38;5;241m=\u001b[39maxis)\n",
      "\u001b[0;31mValueError\u001b[0m: resids must contain at least 2 elements"
     ]
    }
   ],
   "source": [
    "for i, df in enumerate(df_lst):\n",
    "    print(fname_lst[i])\n",
    "    model_lin = sm.OLS.from_formula(\"impact_scale ~ IVT_max + duration + freezing_level + IVT_dir + tIVT\", data=df)\n",
    "    res = model_lin.fit()\n",
    "    res.summary()"
   ]
  },
  {
   "cell_type": "code",
   "execution_count": 49,
   "id": "0b0d7ecb-2925-4bbc-9c84-80d5bebc93b7",
   "metadata": {},
   "outputs": [
    {
     "data": {
      "text/plain": [
       "<matplotlib.legend.Legend at 0x7f3b71ad1e50>"
      ]
     },
     "execution_count": 49,
     "metadata": {},
     "output_type": "execute_result"
    },
    {
     "data": {
      "image/png": "[encoded data removed]",
      "text/plain": [
       "<Figure size 800x600 with 1 Axes>"
      ]
     },
     "metadata": {},
     "output_type": "display_data"
    }
   ],
   "source": [
    "x = result['impact_scale']\n",
    "pred_ols = res.get_prediction()\n",
    "iv_l = pred_ols.summary_frame()[\"obs_ci_lower\"]\n",
    "iv_u = pred_ols.summary_frame()[\"obs_ci_upper\"]\n",
    "\n",
    "fig, ax = plt.subplots(figsize=(8, 6))\n",
    "\n",
    "# ax.plot(x, y, \"o\", label=\"data\")\n",
    "# ax.plot(x, y_true, \"b-\", label=\"True\")\n",
    "ax.plot(x, res.fittedvalues, \"r--.\", label=\"OLS\")\n",
    "# ax.plot(x, iv_u, \"r--\")\n",
    "# ax.plot(x, iv_l, \"r--\")\n",
    "ax.legend(loc=\"best\")\n"
   ]
  },
  {
   "cell_type": "code",
   "execution_count": 52,
   "id": "8237901f-f133-4c1f-a3fc-bcf59f93fdf0",
   "metadata": {},
   "outputs": [
    {
     "data": {
      "text/plain": [
       "442     5.0\n",
       "945     0.0\n",
       "1111    3.0\n",
       "1112    3.0\n",
       "1159    2.0\n",
       "       ... \n",
       "1160    2.0\n",
       "1359    2.0\n",
       "1360    2.0\n",
       "1429    0.0\n",
       "1487    0.0\n",
       "Name: impact_scale, Length: 190, dtype: float64"
      ]
     },
     "execution_count": 52,
     "metadata": {},
     "output_type": "execute_result"
    }
   ],
   "source": [
    "x"
   ]
  },
  {
   "cell_type": "code",
   "execution_count": 29,
   "id": "998aa22e-f5a7-40ae-b10b-dd1356e1ee6e",
   "metadata": {},
   "outputs": [
    {
     "name": "stderr",
     "output_type": "stream",
     "text": [
      "/tmp/ipykernel_49800/3738277075.py:1: FutureWarning: Series.__getitem__ treating keys as positions is deprecated. In a future version, integer keys will always be treated as labels (consistent with DataFrame behavior). To access a value by position, use `ser.iloc[pos]`\n",
      "  result_lin.params[1] # IVT coefficient\n"
     ]
    },
    {
     "data": {
      "text/plain": [
       "0.545141258789112"
      ]
     },
     "execution_count": 29,
     "metadata": {},
     "output_type": "execute_result"
    }
   ],
   "source": [
    "result_lin.params[1] # IVT coefficient\n",
    "result_lin.rsquared # r-squared"
   ]
  },
  {
   "cell_type": "code",
   "execution_count": null,
   "id": "a3ab222e-b0bd-4c8c-8f5b-413d965b90af",
   "metadata": {},
   "outputs": [],
   "source": []
  }
 ],
 "metadata": {
  "kernelspec": {
   "display_name": "Python [conda env:SEAK-impacts]",
   "language": "python",
   "name": "conda-env-SEAK-impacts-py"
  },
  "language_info": {
   "codemirror_mode": {
    "name": "ipython",
    "version": 3
   },
   "file_extension": ".py",
   "mimetype": "text/x-python",
   "name": "python",
   "nbconvert_exporter": "python",
   "pygments_lexer": "ipython3",
   "version": "3.12.0"
  }
 },
 "nbformat": 4,
 "nbformat_minor": 5
}
