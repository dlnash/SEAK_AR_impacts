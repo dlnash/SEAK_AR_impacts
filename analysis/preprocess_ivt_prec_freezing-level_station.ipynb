{
 "cells": [
  {
   "cell_type": "markdown",
   "id": "fa99d32c-c913-46b6-868e-393c23829454",
   "metadata": {},
   "source": [
    "Right now I just want to read the (currently) preprocessed data and start to set up a workflow for each event calculating the statistics for one station. Later, we can add additional stations into the framework and incorporate the rest of the data."
   ]
  },
  {
   "cell_type": "code",
   "execution_count": 1,
   "id": "c19325c9-6aa9-4de0-9c99-e1afbbbfddd3",
   "metadata": {},
   "outputs": [],
   "source": [
    "## import libraries\n",
    "import os, sys\n",
    "import yaml\n",
    "import xarray as xr\n",
    "import pandas as pd\n",
    "import numpy as np\n",
    "import metpy.calc as mpcalc\n",
    "from metpy.units import units\n",
    "\n",
    "%matplotlib inline\n",
    "\n",
    "sys.path.append('../modules')\n",
    "import ar_funcs"
   ]
  },
  {
   "cell_type": "code",
   "execution_count": 2,
   "id": "4aae4757-e668-447a-bf9a-425883bbf0df",
   "metadata": {},
   "outputs": [],
   "source": [
    "path_to_data = '/cw3e/mead/projects/cwp140/scratch/dnash/data/'      # project data -- read only\n",
    "path_to_out  = '../out/'       # output files (numerical results, intermediate datafiles) -- read & write\n",
    "path_to_figs = '../figs/'      # figures"
   ]
  },
  {
   "cell_type": "code",
   "execution_count": 3,
   "id": "c414a0c8-278f-4bfa-89cf-8efd561c37fa",
   "metadata": {},
   "outputs": [],
   "source": [
    "ARID = 201508151811\n",
    "\n",
    "#PASI Sitka 57.04800 -135.36470\n",
    "stationID = 'PASI'\n",
    "\n",
    "## at the end, we want a dataframe for each station in Aaron's database\n",
    "##TODO READ IN station.txt and iterate through all stations\n",
    "# load in station.txt, read name, lat, lon, code\n",
    "#PASI Sitka 57.04800 -135.36470\n",
    "# station_code = PASI\n",
    "# station_name = 'Sitka'\n",
    "# station_lat = 57.04800\n",
    "# station_lon = -135.36470 % 360\n",
    "\n",
    "df_fname = 'df_{0}'.format(stationID)"
   ]
  },
  {
   "cell_type": "code",
   "execution_count": 4,
   "id": "f16271bb-80a2-44c2-8267-70a14de82acf",
   "metadata": {},
   "outputs": [
    {
     "name": "stdout",
     "output_type": "stream",
     "text": [
      "CPU times: user 834 ms, sys: 138 ms, total: 972 ms\n",
      "Wall time: 1.05 s\n"
     ]
    },
    {
     "data": {
      "text/plain": [
       "Unnamed: 0                                     1203\n",
       "trackID                              201508151811.0\n",
       "start_date                      2015-08-17 06:00:00\n",
       "end_date                        2015-08-19 06:00:00\n",
       "duration                                       48.0\n",
       "IVT_max                                  642.900439\n",
       "IVT_max_time          2015-08-18T15:00:00.000000000\n",
       "IVT_dir                                    4.246507\n",
       "freezing_level                          3512.039062\n",
       "ar_scale                                        2.0\n",
       "GFS_prec_accum                            36.639999\n",
       "GFS_prec_max_rate                              19.1\n",
       "ASOS_prec_accum                                 NaN\n",
       "ASOS_prec_max_rate                              NaN\n",
       "ARI_1hr                                         NaN\n",
       "ARI_3hr                                         NaN\n",
       "ARI_6hr                                         NaN\n",
       "ARI_12hr                                        NaN\n",
       "ARI_24hr                                        NaN\n",
       "impact_scale                                    NaN\n",
       "impacts                                         NaN\n",
       "impact_notes                                    NaN\n",
       "Name: 201508151811.0, dtype: object"
      ]
     },
     "execution_count": 4,
     "metadata": {},
     "output_type": "execute_result"
    }
   ],
   "source": [
    "%%time\n",
    "\n",
    "## TODO: iterate through all ARIDs\n",
    "\n",
    "## step 1 - read duration df and create a copy with empty columns\n",
    "df = ar_funcs.build_empty_df(stationID)\n",
    "\n",
    "## step 2 - for each ARID, pull in IVT data\n",
    "df = ar_funcs.preprocess_IVT_info(stationID, ARID, df)\n",
    "\n",
    "## step 3 - for each ARID, pull in freezing level data\n",
    "df = ar_funcs.preprocess_freezing_level(stationID, ARID, df)\n",
    "\n",
    "## step 4 - for each ARID, pull in GEFS precipitation data\n",
    "df = ar_funcs.preprocess_prec_GEFS(stationID, ARID, df)\n",
    "\n",
    "## step 5 - for each ARID, pull in ASOS precipitation data and ARI\n",
    "\n",
    "## step 6 - for each ARID, pull in Aaron's impact information\n",
    "\n",
    "\n",
    "df.loc[ARID]"
   ]
  },
  {
   "cell_type": "code",
   "execution_count": null,
   "id": "8558c0d2-9153-4fd9-afa8-790372e775cc",
   "metadata": {},
   "outputs": [],
   "source": []
  }
 ],
 "metadata": {
  "kernelspec": {
   "display_name": "Python (SEAK-clim)",
   "language": "python",
   "name": "seak-clim"
  },
  "language_info": {
   "codemirror_mode": {
    "name": "ipython",
    "version": 3
   },
   "file_extension": ".py",
   "mimetype": "text/x-python",
   "name": "python",
   "nbconvert_exporter": "python",
   "pygments_lexer": "ipython3",
   "version": "3.10.6"
  }
 },
 "nbformat": 4,
 "nbformat_minor": 5
}
