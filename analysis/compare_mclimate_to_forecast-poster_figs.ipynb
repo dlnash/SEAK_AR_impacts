{
 "cells": [
  {
   "cell_type": "code",
   "execution_count": 1,
   "id": "8f01a212-922a-42d4-b7da-09f65f621ff8",
   "metadata": {},
   "outputs": [
    {
     "name": "stderr",
     "output_type": "stream",
     "text": [
      "ERROR 1: PROJ: proj_create_from_database: Open of /home/dnash/miniconda3/envs/SEAK-impacts/share/proj failed\n"
     ]
    }
   ],
   "source": [
    "## import libraries\n",
    "import os, sys\n",
    "import yaml\n",
    "import xarray as xr\n",
    "import pandas as pd\n",
    "import numpy as np\n",
    "from datetime import timedelta\n",
    "%matplotlib inline\n",
    "from datetime import timedelta\n",
    "\n",
    "# plotting\n",
    "import matplotlib.pyplot as plt\n",
    "import cartopy.crs as ccrs\n",
    "from matplotlib.gridspec import GridSpec\n",
    "from matplotlib.colorbar import Colorbar # different way to handle colorbar\n",
    "import textwrap\n",
    "\n",
    "sys.path.append('../../mclimate_tool_cw3e')\n",
    "from build_html_table import create_html_table\n",
    "import custom_cmaps as ccmap\n",
    "from plotter import draw_basemap, plot_mclimate_forecast_comparison\n",
    "import mclimate_funcs as mclim_func\n",
    "# dask.config.set(**{'array.slicing.split_large_chunks': True})"
   ]
  },
  {
   "cell_type": "code",
   "execution_count": 2,
   "id": "cddc54d5-93bd-4b4d-9b24-ad46df9f18e9",
   "metadata": {},
   "outputs": [],
   "source": [
    "path_to_data = '/expanse/nfs/cw3e/cwp140/'      # project data -- read only\n",
    "path_to_out  = '../out/'       # output files (numerical results, intermediate datafiles) -- read & write\n",
    "path_to_figs = '../figs/'      # figures"
   ]
  },
  {
   "cell_type": "code",
   "execution_count": 3,
   "id": "915070dc-b633-4589-a71c-7c3ac0373a58",
   "metadata": {},
   "outputs": [
    {
     "name": "stdout",
     "output_type": "stream",
     "text": [
      "11 18\n",
      "11 28\n"
     ]
    }
   ],
   "source": [
    "## load reforecast data\n",
    "varname = 'freezing_level' ## 'freezing_level' or 'ivt'\n",
    "fdate = '20131118' ## initialization date in YYYYMMDD format\n",
    "model = 'GEFSv12_reforecast' ## 'GEFSv12_reforecast', 'GFS', 'GEFS', 'GEFS_archive'\n",
    "\n",
    "forecast, ds = mclim_func.run_compare_mclimate_forecast(varname, fdate, model, server='expanse')\n",
    "\n",
    "## load archived forecast data\n",
    "fdate = '20201128' ## initialization date in YYYYMMDD format\n",
    "model = 'GEFS_archive' ## 'GEFSv12_reforecast', 'GFS', 'GEFS', 'GEFS_archive'\n",
    "\n",
    "forecast2, ds2 =  mclim_func.run_compare_mclimate_forecast(varname, fdate, model, server='expanse')\n",
    "\n",
    "st1 = 96\n",
    "st2 = 96\n",
    "fc_lst = [forecast.sel(step=st1), forecast2.sel(step=st2)]\n",
    "ds_lst = [ds.sel(step=st1), ds2.sel(step=st2)]\n",
    "\n",
    "fname = '../figs/ams_poster_{0}'.format(varname)\n",
    "plot_mclimate_forecast_comparison(ds_lst, fc_lst, varname, fname, ext=[-170., -120., 40., 65.])"
   ]
  },
  {
   "cell_type": "code",
   "execution_count": 4,
   "id": "f6388996-7dc5-4b12-a501-b4477db47981",
   "metadata": {},
   "outputs": [
    {
     "name": "stdout",
     "output_type": "stream",
     "text": [
      "11 18\n",
      "11 28\n"
     ]
    }
   ],
   "source": [
    "## load reforecast data\n",
    "varname = 'ivt' ## 'freezing_level' or 'ivt'\n",
    "fdate = '20131118' ## initialization date in YYYYMMDD format\n",
    "model = 'GEFSv12_reforecast' ## 'GEFSv12_reforecast', 'GFS', 'GEFS', 'GEFS_archive'\n",
    "\n",
    "forecast, ds = mclim_func.run_compare_mclimate_forecast(varname, fdate, model, server='expanse')\n",
    "\n",
    "## load archived forecast data\n",
    "fdate = '20201128' ## initialization date in YYYYMMDD format\n",
    "model = 'GEFS_archive' ## 'GEFSv12_reforecast', 'GFS', 'GEFS', 'GEFS_archive'\n",
    "\n",
    "forecast2, ds2 =  mclim_func.run_compare_mclimate_forecast(varname, fdate, model, server='expanse')\n",
    "\n",
    "st1 = 96\n",
    "st2 = 96\n",
    "fc_lst = [forecast.sel(step=st1), forecast2.sel(step=st2)]\n",
    "ds_lst = [ds.sel(step=st1), ds2.sel(step=st2)]\n",
    "\n",
    "fname = '../figs/ams_poster_{0}'.format(varname)\n",
    "plot_mclimate_forecast_comparison(ds_lst, fc_lst, varname, fname, ext=[-170., -120., 40., 65.])"
   ]
  },
  {
   "cell_type": "code",
   "execution_count": 5,
   "id": "cd2f8ee6-57d0-4daa-9f56-5c5180e6025e",
   "metadata": {},
   "outputs": [],
   "source": [
    "## TODO Calculate Mclimate for UV1000 for\n",
    "## November 18\n",
    "## config_13 job_853 - job_892\n",
    "## need uv reforecast data from 4-Oct to Jan-2\n",
    "\n",
    "## November 28\n",
    "## config_14 job_254 - job_293\n",
    "## need uv reforecast data from 14-Oct to Jan-12\n",
    "## have uv reforecast until Jan 5"
   ]
  },
  {
   "cell_type": "code",
   "execution_count": 6,
   "id": "1bd0c75c-1687-42c9-a2d0-99a867842b18",
   "metadata": {},
   "outputs": [
    {
     "name": "stdout",
     "output_type": "stream",
     "text": [
      "11 18\n",
      "11 28\n"
     ]
    }
   ],
   "source": [
    "## load reforecast data\n",
    "varname = 'uv1000' ## 'freezing_level' or 'ivt'\n",
    "fdate = '20131118' ## initialization date in YYYYMMDD format\n",
    "model = 'GEFSv12_reforecast' ## 'GEFSv12_reforecast', 'GFS', 'GEFS', 'GEFS_archive'\n",
    "\n",
    "forecast, ds = mclim_func.run_compare_mclimate_forecast(varname, fdate, model, server='expanse')\n",
    "\n",
    "## load archived forecast data\n",
    "fdate = '20201128' ## initialization date in YYYYMMDD format\n",
    "model = 'GEFS_archive' ## 'GEFSv12_reforecast', 'GFS', 'GEFS', 'GEFS_archive'\n",
    "\n",
    "forecast2, ds2 =  mclim_func.run_compare_mclimate_forecast(varname, fdate, model, server='expanse')\n",
    "\n",
    "st1 = 96\n",
    "st2 = 96\n",
    "fc_lst = [forecast.sel(step=st1), forecast2.sel(step=st2)]\n",
    "ds_lst = [ds.sel(step=st1), ds2.sel(step=st2)]\n",
    "\n",
    "fname = '../figs/ams_poster_{0}'.format(varname)\n",
    "plot_mclimate_forecast_comparison(ds_lst, fc_lst, varname, fname, ext=[-170., -120., 40., 65.])"
   ]
  },
  {
   "cell_type": "code",
   "execution_count": null,
   "id": "3e50ec90-075e-4027-9bee-a7e9c509da12",
   "metadata": {},
   "outputs": [],
   "source": []
  }
 ],
 "metadata": {
  "kernelspec": {
   "display_name": "Python (SEAK-impacts)",
   "language": "python",
   "name": "seak-impacts"
  },
  "language_info": {
   "codemirror_mode": {
    "name": "ipython",
    "version": 3
   },
   "file_extension": ".py",
   "mimetype": "text/x-python",
   "name": "python",
   "nbconvert_exporter": "python",
   "pygments_lexer": "ipython3",
   "version": "3.12.1"
  }
 },
 "nbformat": 4,
 "nbformat_minor": 5
}
