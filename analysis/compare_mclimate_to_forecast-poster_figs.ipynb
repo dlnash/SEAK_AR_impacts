{
 "cells": [
  {
   "cell_type": "code",
   "execution_count": 1,
   "id": "8f01a212-922a-42d4-b7da-09f65f621ff8",
   "metadata": {},
   "outputs": [
    {
     "name": "stderr",
     "output_type": "stream",
     "text": [
      "ERROR 1: PROJ: proj_create_from_database: Open of /home/dnash/miniconda3/envs/SEAK-impacts/share/proj failed\n"
     ]
    }
   ],
   "source": [
    "## import libraries\n",
    "import os, sys\n",
    "import yaml\n",
    "import xarray as xr\n",
    "import pandas as pd\n",
    "import numpy as np\n",
    "from datetime import timedelta\n",
    "%matplotlib inline\n",
    "from datetime import timedelta\n",
    "\n",
    "# plotting\n",
    "import matplotlib.pyplot as plt\n",
    "import cartopy.crs as ccrs\n",
    "from matplotlib.gridspec import GridSpec\n",
    "from matplotlib.colorbar import Colorbar # different way to handle colorbar\n",
    "import textwrap\n",
    "\n",
    "sys.path.append('../../mclimate_tool_cw3e')\n",
    "from build_html_table import create_html_table\n",
    "import custom_cmaps as ccmap\n",
    "from plotter import draw_basemap, plot_mclimate_forecast_comparison\n",
    "import mclimate_funcs as mclim_func\n",
    "# dask.config.set(**{'array.slicing.split_large_chunks': True})"
   ]
  },
  {
   "cell_type": "code",
   "execution_count": 2,
   "id": "cddc54d5-93bd-4b4d-9b24-ad46df9f18e9",
   "metadata": {},
   "outputs": [],
   "source": [
    "path_to_data = '/expanse/nfs/cw3e/cwp140/'      # project data -- read only\n",
    "path_to_out  = '../out/'       # output files (numerical results, intermediate datafiles) -- read & write\n",
    "path_to_figs = '../figs/'      # figures"
   ]
  },
  {
   "cell_type": "code",
   "execution_count": 3,
   "id": "915070dc-b633-4589-a71c-7c3ac0373a58",
   "metadata": {},
   "outputs": [
    {
     "name": "stdout",
     "output_type": "stream",
     "text": [
      "11 18\n",
      "11 28\n"
     ]
    }
   ],
   "source": [
    "## load reforecast data\n",
    "varname = 'freezing_level' ## 'freezing_level' or 'ivt'\n",
    "fdate = '20131118' ## initialization date in YYYYMMDD format\n",
    "model = 'GEFSv12_reforecast' ## 'GEFSv12_reforecast', 'GFS', 'GEFS', 'GEFS_archive'\n",
    "\n",
    "forecast, ds = mclim_func.run_compare_mclimate_forecast(varname, fdate, model, server='expanse')\n",
    "\n",
    "## load archived forecast data\n",
    "fdate = '20201128' ## initialization date in YYYYMMDD format\n",
    "model = 'GEFS_archive' ## 'GEFSv12_reforecast', 'GFS', 'GEFS', 'GEFS_archive'\n",
    "\n",
    "forecast2, ds2 =  mclim_func.run_compare_mclimate_forecast(varname, fdate, model, server='expanse')\n",
    "\n",
    "st1 = 96\n",
    "st2 = 96\n",
    "fc_lst = [forecast.sel(step=st1), forecast2.sel(step=st2)]\n",
    "ds_lst = [ds.sel(step=st1), ds2.sel(step=st2)]\n",
    "\n",
    "fname = '../figs/ams_poster_{0}'.format(varname)\n",
    "plot_mclimate_forecast_comparison(ds_lst, fc_lst, varname, fname, ext=[-170., -120., 40., 65.])"
   ]
  },
  {
   "cell_type": "code",
   "execution_count": 4,
   "id": "f6388996-7dc5-4b12-a501-b4477db47981",
   "metadata": {},
   "outputs": [
    {
     "name": "stdout",
     "output_type": "stream",
     "text": [
      "11 18\n",
      "11 28\n"
     ]
    }
   ],
   "source": [
    "## load reforecast data\n",
    "varname = 'ivt' ## 'freezing_level' or 'ivt'\n",
    "fdate = '20131118' ## initialization date in YYYYMMDD format\n",
    "model = 'GEFSv12_reforecast' ## 'GEFSv12_reforecast', 'GFS', 'GEFS', 'GEFS_archive'\n",
    "\n",
    "forecast, ds = mclim_func.run_compare_mclimate_forecast(varname, fdate, model, server='expanse')\n",
    "\n",
    "## load archived forecast data\n",
    "fdate = '20201128' ## initialization date in YYYYMMDD format\n",
    "model = 'GEFS_archive' ## 'GEFSv12_reforecast', 'GFS', 'GEFS', 'GEFS_archive'\n",
    "\n",
    "forecast2, ds2 =  mclim_func.run_compare_mclimate_forecast(varname, fdate, model, server='expanse')\n",
    "\n",
    "st1 = 96\n",
    "st2 = 96\n",
    "fc_lst = [forecast.sel(step=st1), forecast2.sel(step=st2)]\n",
    "ds_lst = [ds.sel(step=st1), ds2.sel(step=st2)]\n",
    "\n",
    "fname = '../figs/ams_poster_{0}'.format(varname)\n",
    "plot_mclimate_forecast_comparison(ds_lst, fc_lst, varname, fname, ext=[-170., -120., 40., 65.])"
   ]
  },
  {
   "cell_type": "code",
   "execution_count": 5,
   "id": "cd2f8ee6-57d0-4daa-9f56-5c5180e6025e",
   "metadata": {},
   "outputs": [],
   "source": [
    "## TODO Calculate Mclimate for UV1000 for\n",
    "## November 18\n",
    "## config_13 job_853 - job_892\n",
    "## need uv reforecast data from 4-Oct to Jan-2\n",
    "\n",
    "## November 28\n",
    "## config_14 job_254 - job_293\n",
    "## need uv reforecast data from 14-Oct to Jan-12\n",
    "## have uv reforecast until Jan 5"
   ]
  },
  {
   "cell_type": "code",
   "execution_count": 7,
   "id": "1bd0c75c-1687-42c9-a2d0-99a867842b18",
   "metadata": {},
   "outputs": [
    {
     "name": "stdout",
     "output_type": "stream",
     "text": [
      "11 18\n"
     ]
    },
    {
     "ename": "TypeError",
     "evalue": "'float' object cannot be interpreted as an integer",
     "output_type": "error",
     "traceback": [
      "\u001b[0;31m---------------------------------------------------------------------------\u001b[0m",
      "\u001b[0;31mTypeError\u001b[0m                                 Traceback (most recent call last)",
      "Cell \u001b[0;32mIn[7], line 6\u001b[0m\n\u001b[1;32m      3\u001b[0m fdate \u001b[38;5;241m=\u001b[39m \u001b[38;5;124m'\u001b[39m\u001b[38;5;124m20131118\u001b[39m\u001b[38;5;124m'\u001b[39m \u001b[38;5;66;03m## initialization date in YYYYMMDD format\u001b[39;00m\n\u001b[1;32m      4\u001b[0m model \u001b[38;5;241m=\u001b[39m \u001b[38;5;124m'\u001b[39m\u001b[38;5;124mGEFSv12_reforecast\u001b[39m\u001b[38;5;124m'\u001b[39m \u001b[38;5;66;03m## 'GEFSv12_reforecast', 'GFS', 'GEFS', 'GEFS_archive'\u001b[39;00m\n\u001b[0;32m----> 6\u001b[0m forecast, ds \u001b[38;5;241m=\u001b[39m \u001b[43mmclim_func\u001b[49m\u001b[38;5;241;43m.\u001b[39;49m\u001b[43mrun_compare_mclimate_forecast\u001b[49m\u001b[43m(\u001b[49m\u001b[43mvarname\u001b[49m\u001b[43m,\u001b[49m\u001b[43m \u001b[49m\u001b[43mfdate\u001b[49m\u001b[43m,\u001b[49m\u001b[43m \u001b[49m\u001b[43mmodel\u001b[49m\u001b[43m,\u001b[49m\u001b[43m \u001b[49m\u001b[43mserver\u001b[49m\u001b[38;5;241;43m=\u001b[39;49m\u001b[38;5;124;43m'\u001b[39;49m\u001b[38;5;124;43mexpanse\u001b[39;49m\u001b[38;5;124;43m'\u001b[39;49m\u001b[43m)\u001b[49m\n\u001b[1;32m      8\u001b[0m \u001b[38;5;66;03m## load archived forecast data\u001b[39;00m\n\u001b[1;32m      9\u001b[0m fdate \u001b[38;5;241m=\u001b[39m \u001b[38;5;124m'\u001b[39m\u001b[38;5;124m20201128\u001b[39m\u001b[38;5;124m'\u001b[39m \u001b[38;5;66;03m## initialization date in YYYYMMDD format\u001b[39;00m\n",
      "File \u001b[0;32m~/repos/SEAK_AR_impacts/analysis/../../mclimate_tool_cw3e/mclimate_funcs.py:156\u001b[0m, in \u001b[0;36mrun_compare_mclimate_forecast\u001b[0;34m(varname, fdate, model, server)\u001b[0m\n\u001b[1;32m    153\u001b[0m \u001b[38;5;28mprint\u001b[39m(mon, day)\n\u001b[1;32m    155\u001b[0m \u001b[38;5;66;03m## load mclimate data based on the initialization date\u001b[39;00m\n\u001b[0;32m--> 156\u001b[0m mclimate \u001b[38;5;241m=\u001b[39m \u001b[43mload_mclimate\u001b[49m\u001b[43m(\u001b[49m\u001b[43mmon\u001b[49m\u001b[43m,\u001b[49m\u001b[43m \u001b[49m\u001b[43mday\u001b[49m\u001b[43m,\u001b[49m\u001b[43m \u001b[49m\u001b[43mvarname\u001b[49m\u001b[43m,\u001b[49m\u001b[43m \u001b[49m\u001b[43mserver\u001b[49m\u001b[43m)\u001b[49m\n\u001b[1;32m    158\u001b[0m \u001b[38;5;28;01mif\u001b[39;00m (model \u001b[38;5;241m==\u001b[39m \u001b[38;5;124m'\u001b[39m\u001b[38;5;124mGEFS\u001b[39m\u001b[38;5;124m'\u001b[39m) \u001b[38;5;241m|\u001b[39m (model \u001b[38;5;241m==\u001b[39m \u001b[38;5;124m'\u001b[39m\u001b[38;5;124mGEFS_archive\u001b[39m\u001b[38;5;124m'\u001b[39m):\n\u001b[1;32m    159\u001b[0m     \u001b[38;5;66;03m## regrid/interpolate data to all have same grid size\u001b[39;00m\n\u001b[1;32m    160\u001b[0m     regrid_lats \u001b[38;5;241m=\u001b[39m forecast\u001b[38;5;241m.\u001b[39mlat\n",
      "File \u001b[0;32m~/repos/SEAK_AR_impacts/analysis/../../mclimate_tool_cw3e/mclimate_funcs.py:99\u001b[0m, in \u001b[0;36mload_mclimate\u001b[0;34m(mon, day, varname, server)\u001b[0m\n\u001b[1;32m     97\u001b[0m \u001b[38;5;28;01melse\u001b[39;00m:\n\u001b[1;32m     98\u001b[0m     ds \u001b[38;5;241m=\u001b[39m ds\n\u001b[0;32m---> 99\u001b[0m ds \u001b[38;5;241m=\u001b[39m \u001b[43mds\u001b[49m\u001b[38;5;241;43m.\u001b[39;49m\u001b[43msel\u001b[49m\u001b[43m(\u001b[49m\u001b[43mlon\u001b[49m\u001b[38;5;241;43m=\u001b[39;49m\u001b[38;5;28;43mslice\u001b[39;49m\u001b[43m(\u001b[49m\u001b[38;5;241;43m-\u001b[39;49m\u001b[38;5;241;43m179.5\u001b[39;49m\u001b[43m,\u001b[49m\u001b[43m \u001b[49m\u001b[38;5;241;43m-\u001b[39;49m\u001b[38;5;241;43m110.\u001b[39;49m\u001b[43m)\u001b[49m\u001b[43m,\u001b[49m\u001b[43m \u001b[49m\u001b[43mlat\u001b[49m\u001b[38;5;241;43m=\u001b[39;49m\u001b[38;5;28;43mslice\u001b[39;49m\u001b[43m(\u001b[49m\u001b[38;5;241;43m70.\u001b[39;49m\u001b[43m,\u001b[49m\u001b[43m \u001b[49m\u001b[38;5;241;43m10.\u001b[39;49m\u001b[43m)\u001b[49m\u001b[43m)\u001b[49m\n\u001b[1;32m    100\u001b[0m \u001b[38;5;66;03m## load the data into memory\u001b[39;00m\n\u001b[1;32m    101\u001b[0m ds \u001b[38;5;241m=\u001b[39m ds\u001b[38;5;241m.\u001b[39mload()\n",
      "File \u001b[0;32m~/miniconda3/envs/SEAK-impacts/lib/python3.12/site-packages/xarray/core/dataset.py:3119\u001b[0m, in \u001b[0;36mDataset.sel\u001b[0;34m(self, indexers, method, tolerance, drop, **indexers_kwargs)\u001b[0m\n\u001b[1;32m   3116\u001b[0m                 query_results\u001b[38;5;241m.\u001b[39mdrop_coords\u001b[38;5;241m.\u001b[39mappend(k)\n\u001b[1;32m   3117\u001b[0m     query_results\u001b[38;5;241m.\u001b[39mvariables \u001b[38;5;241m=\u001b[39m no_scalar_variables\n\u001b[0;32m-> 3119\u001b[0m result \u001b[38;5;241m=\u001b[39m \u001b[38;5;28;43mself\u001b[39;49m\u001b[38;5;241;43m.\u001b[39;49m\u001b[43misel\u001b[49m\u001b[43m(\u001b[49m\u001b[43mindexers\u001b[49m\u001b[38;5;241;43m=\u001b[39;49m\u001b[43mquery_results\u001b[49m\u001b[38;5;241;43m.\u001b[39;49m\u001b[43mdim_indexers\u001b[49m\u001b[43m,\u001b[49m\u001b[43m \u001b[49m\u001b[43mdrop\u001b[49m\u001b[38;5;241;43m=\u001b[39;49m\u001b[43mdrop\u001b[49m\u001b[43m)\u001b[49m\n\u001b[1;32m   3120\u001b[0m \u001b[38;5;28;01mreturn\u001b[39;00m result\u001b[38;5;241m.\u001b[39m_overwrite_indexes(\u001b[38;5;241m*\u001b[39mquery_results\u001b[38;5;241m.\u001b[39mas_tuple()[\u001b[38;5;241m1\u001b[39m:])\n",
      "File \u001b[0;32m~/miniconda3/envs/SEAK-impacts/lib/python3.12/site-packages/xarray/core/dataset.py:2971\u001b[0m, in \u001b[0;36mDataset.isel\u001b[0;34m(self, indexers, drop, missing_dims, **indexers_kwargs)\u001b[0m\n\u001b[1;32m   2969\u001b[0m var_indexers \u001b[38;5;241m=\u001b[39m {k: v \u001b[38;5;28;01mfor\u001b[39;00m k, v \u001b[38;5;129;01min\u001b[39;00m indexers\u001b[38;5;241m.\u001b[39mitems() \u001b[38;5;28;01mif\u001b[39;00m k \u001b[38;5;129;01min\u001b[39;00m var\u001b[38;5;241m.\u001b[39mdims}\n\u001b[1;32m   2970\u001b[0m \u001b[38;5;28;01mif\u001b[39;00m var_indexers:\n\u001b[0;32m-> 2971\u001b[0m     var \u001b[38;5;241m=\u001b[39m \u001b[43mvar\u001b[49m\u001b[38;5;241;43m.\u001b[39;49m\u001b[43misel\u001b[49m\u001b[43m(\u001b[49m\u001b[43mvar_indexers\u001b[49m\u001b[43m)\u001b[49m\n\u001b[1;32m   2972\u001b[0m     \u001b[38;5;28;01mif\u001b[39;00m drop \u001b[38;5;129;01mand\u001b[39;00m var\u001b[38;5;241m.\u001b[39mndim \u001b[38;5;241m==\u001b[39m \u001b[38;5;241m0\u001b[39m \u001b[38;5;129;01mand\u001b[39;00m name \u001b[38;5;129;01min\u001b[39;00m coord_names:\n\u001b[1;32m   2973\u001b[0m         coord_names\u001b[38;5;241m.\u001b[39mremove(name)\n",
      "File \u001b[0;32m~/miniconda3/envs/SEAK-impacts/lib/python3.12/site-packages/xarray/core/variable.py:1130\u001b[0m, in \u001b[0;36mVariable.isel\u001b[0;34m(self, indexers, missing_dims, **indexers_kwargs)\u001b[0m\n\u001b[1;32m   1127\u001b[0m indexers \u001b[38;5;241m=\u001b[39m drop_dims_from_indexers(indexers, \u001b[38;5;28mself\u001b[39m\u001b[38;5;241m.\u001b[39mdims, missing_dims)\n\u001b[1;32m   1129\u001b[0m key \u001b[38;5;241m=\u001b[39m \u001b[38;5;28mtuple\u001b[39m(indexers\u001b[38;5;241m.\u001b[39mget(dim, \u001b[38;5;28mslice\u001b[39m(\u001b[38;5;28;01mNone\u001b[39;00m)) \u001b[38;5;28;01mfor\u001b[39;00m dim \u001b[38;5;129;01min\u001b[39;00m \u001b[38;5;28mself\u001b[39m\u001b[38;5;241m.\u001b[39mdims)\n\u001b[0;32m-> 1130\u001b[0m \u001b[38;5;28;01mreturn\u001b[39;00m \u001b[38;5;28;43mself\u001b[39;49m\u001b[43m[\u001b[49m\u001b[43mkey\u001b[49m\u001b[43m]\u001b[49m\n",
      "File \u001b[0;32m~/miniconda3/envs/SEAK-impacts/lib/python3.12/site-packages/xarray/core/variable.py:811\u001b[0m, in \u001b[0;36mVariable.__getitem__\u001b[0;34m(self, key)\u001b[0m\n\u001b[1;32m    798\u001b[0m \u001b[38;5;28;01mdef\u001b[39;00m \u001b[38;5;21m__getitem__\u001b[39m(\u001b[38;5;28mself\u001b[39m, key) \u001b[38;5;241m-\u001b[39m\u001b[38;5;241m>\u001b[39m Self:\n\u001b[1;32m    799\u001b[0m \u001b[38;5;250m    \u001b[39m\u001b[38;5;124;03m\"\"\"Return a new Variable object whose contents are consistent with\u001b[39;00m\n\u001b[1;32m    800\u001b[0m \u001b[38;5;124;03m    getting the provided key from the underlying data.\u001b[39;00m\n\u001b[1;32m    801\u001b[0m \n\u001b[0;32m   (...)\u001b[0m\n\u001b[1;32m    809\u001b[0m \u001b[38;5;124;03m    array `x.values` directly.\u001b[39;00m\n\u001b[1;32m    810\u001b[0m \u001b[38;5;124;03m    \"\"\"\u001b[39;00m\n\u001b[0;32m--> 811\u001b[0m     dims, indexer, new_order \u001b[38;5;241m=\u001b[39m \u001b[38;5;28;43mself\u001b[39;49m\u001b[38;5;241;43m.\u001b[39;49m\u001b[43m_broadcast_indexes\u001b[49m\u001b[43m(\u001b[49m\u001b[43mkey\u001b[49m\u001b[43m)\u001b[49m\n\u001b[1;32m    812\u001b[0m     data \u001b[38;5;241m=\u001b[39m as_indexable(\u001b[38;5;28mself\u001b[39m\u001b[38;5;241m.\u001b[39m_data)[indexer]\n\u001b[1;32m    813\u001b[0m     \u001b[38;5;28;01mif\u001b[39;00m new_order:\n",
      "File \u001b[0;32m~/miniconda3/envs/SEAK-impacts/lib/python3.12/site-packages/xarray/core/variable.py:651\u001b[0m, in \u001b[0;36mVariable._broadcast_indexes\u001b[0;34m(self, key)\u001b[0m\n\u001b[1;32m    646\u001b[0m key \u001b[38;5;241m=\u001b[39m \u001b[38;5;28mtuple\u001b[39m(\n\u001b[1;32m    647\u001b[0m     k\u001b[38;5;241m.\u001b[39mitem() \u001b[38;5;28;01mif\u001b[39;00m \u001b[38;5;28misinstance\u001b[39m(k, np\u001b[38;5;241m.\u001b[39mndarray) \u001b[38;5;129;01mand\u001b[39;00m k\u001b[38;5;241m.\u001b[39mndim \u001b[38;5;241m==\u001b[39m \u001b[38;5;241m0\u001b[39m \u001b[38;5;28;01melse\u001b[39;00m k \u001b[38;5;28;01mfor\u001b[39;00m k \u001b[38;5;129;01min\u001b[39;00m key\n\u001b[1;32m    648\u001b[0m )\n\u001b[1;32m    650\u001b[0m \u001b[38;5;28;01mif\u001b[39;00m \u001b[38;5;28mall\u001b[39m(\u001b[38;5;28misinstance\u001b[39m(k, BASIC_INDEXING_TYPES) \u001b[38;5;28;01mfor\u001b[39;00m k \u001b[38;5;129;01min\u001b[39;00m key):\n\u001b[0;32m--> 651\u001b[0m     \u001b[38;5;28;01mreturn\u001b[39;00m \u001b[38;5;28;43mself\u001b[39;49m\u001b[38;5;241;43m.\u001b[39;49m\u001b[43m_broadcast_indexes_basic\u001b[49m\u001b[43m(\u001b[49m\u001b[43mkey\u001b[49m\u001b[43m)\u001b[49m\n\u001b[1;32m    653\u001b[0m \u001b[38;5;28mself\u001b[39m\u001b[38;5;241m.\u001b[39m_validate_indexers(key)\n\u001b[1;32m    654\u001b[0m \u001b[38;5;66;03m# Detect it can be mapped as an outer indexer\u001b[39;00m\n\u001b[1;32m    655\u001b[0m \u001b[38;5;66;03m# If all key is unlabeled, or\u001b[39;00m\n\u001b[1;32m    656\u001b[0m \u001b[38;5;66;03m# key can be mapped as an OuterIndexer.\u001b[39;00m\n",
      "File \u001b[0;32m~/miniconda3/envs/SEAK-impacts/lib/python3.12/site-packages/xarray/core/variable.py:679\u001b[0m, in \u001b[0;36mVariable._broadcast_indexes_basic\u001b[0;34m(self, key)\u001b[0m\n\u001b[1;32m    675\u001b[0m \u001b[38;5;28;01mdef\u001b[39;00m \u001b[38;5;21m_broadcast_indexes_basic\u001b[39m(\u001b[38;5;28mself\u001b[39m, key):\n\u001b[1;32m    676\u001b[0m     dims \u001b[38;5;241m=\u001b[39m \u001b[38;5;28mtuple\u001b[39m(\n\u001b[1;32m    677\u001b[0m         dim \u001b[38;5;28;01mfor\u001b[39;00m k, dim \u001b[38;5;129;01min\u001b[39;00m \u001b[38;5;28mzip\u001b[39m(key, \u001b[38;5;28mself\u001b[39m\u001b[38;5;241m.\u001b[39mdims) \u001b[38;5;28;01mif\u001b[39;00m \u001b[38;5;129;01mnot\u001b[39;00m \u001b[38;5;28misinstance\u001b[39m(k, integer_types)\n\u001b[1;32m    678\u001b[0m     )\n\u001b[0;32m--> 679\u001b[0m     \u001b[38;5;28;01mreturn\u001b[39;00m dims, \u001b[43mBasicIndexer\u001b[49m\u001b[43m(\u001b[49m\u001b[43mkey\u001b[49m\u001b[43m)\u001b[49m, \u001b[38;5;28;01mNone\u001b[39;00m\n",
      "File \u001b[0;32m~/miniconda3/envs/SEAK-impacts/lib/python3.12/site-packages/xarray/core/indexing.py:350\u001b[0m, in \u001b[0;36mBasicIndexer.__init__\u001b[0;34m(self, key)\u001b[0m\n\u001b[1;32m    348\u001b[0m     k \u001b[38;5;241m=\u001b[39m \u001b[38;5;28mint\u001b[39m(k)\n\u001b[1;32m    349\u001b[0m \u001b[38;5;28;01melif\u001b[39;00m \u001b[38;5;28misinstance\u001b[39m(k, \u001b[38;5;28mslice\u001b[39m):\n\u001b[0;32m--> 350\u001b[0m     k \u001b[38;5;241m=\u001b[39m \u001b[43mas_integer_slice\u001b[49m\u001b[43m(\u001b[49m\u001b[43mk\u001b[49m\u001b[43m)\u001b[49m\n\u001b[1;32m    351\u001b[0m \u001b[38;5;28;01melse\u001b[39;00m:\n\u001b[1;32m    352\u001b[0m     \u001b[38;5;28;01mraise\u001b[39;00m \u001b[38;5;167;01mTypeError\u001b[39;00m(\n\u001b[1;32m    353\u001b[0m         \u001b[38;5;124mf\u001b[39m\u001b[38;5;124m\"\u001b[39m\u001b[38;5;124munexpected indexer type for \u001b[39m\u001b[38;5;132;01m{\u001b[39;00m\u001b[38;5;28mtype\u001b[39m(\u001b[38;5;28mself\u001b[39m)\u001b[38;5;241m.\u001b[39m\u001b[38;5;18m__name__\u001b[39m\u001b[38;5;132;01m}\u001b[39;00m\u001b[38;5;124m: \u001b[39m\u001b[38;5;132;01m{\u001b[39;00mk\u001b[38;5;132;01m!r}\u001b[39;00m\u001b[38;5;124m\"\u001b[39m\n\u001b[1;32m    354\u001b[0m     )\n",
      "File \u001b[0;32m~/miniconda3/envs/SEAK-impacts/lib/python3.12/site-packages/xarray/core/indexing.py:325\u001b[0m, in \u001b[0;36mas_integer_slice\u001b[0;34m(value)\u001b[0m\n\u001b[1;32m    324\u001b[0m \u001b[38;5;28;01mdef\u001b[39;00m \u001b[38;5;21mas_integer_slice\u001b[39m(value):\n\u001b[0;32m--> 325\u001b[0m     start \u001b[38;5;241m=\u001b[39m \u001b[43mas_integer_or_none\u001b[49m\u001b[43m(\u001b[49m\u001b[43mvalue\u001b[49m\u001b[38;5;241;43m.\u001b[39;49m\u001b[43mstart\u001b[49m\u001b[43m)\u001b[49m\n\u001b[1;32m    326\u001b[0m     stop \u001b[38;5;241m=\u001b[39m as_integer_or_none(value\u001b[38;5;241m.\u001b[39mstop)\n\u001b[1;32m    327\u001b[0m     step \u001b[38;5;241m=\u001b[39m as_integer_or_none(value\u001b[38;5;241m.\u001b[39mstep)\n",
      "File \u001b[0;32m~/miniconda3/envs/SEAK-impacts/lib/python3.12/site-packages/xarray/core/indexing.py:321\u001b[0m, in \u001b[0;36mas_integer_or_none\u001b[0;34m(value)\u001b[0m\n\u001b[1;32m    320\u001b[0m \u001b[38;5;28;01mdef\u001b[39;00m \u001b[38;5;21mas_integer_or_none\u001b[39m(value):\n\u001b[0;32m--> 321\u001b[0m     \u001b[38;5;28;01mreturn\u001b[39;00m \u001b[38;5;28;01mNone\u001b[39;00m \u001b[38;5;28;01mif\u001b[39;00m value \u001b[38;5;129;01mis\u001b[39;00m \u001b[38;5;28;01mNone\u001b[39;00m \u001b[38;5;28;01melse\u001b[39;00m \u001b[43moperator\u001b[49m\u001b[38;5;241;43m.\u001b[39;49m\u001b[43mindex\u001b[49m\u001b[43m(\u001b[49m\u001b[43mvalue\u001b[49m\u001b[43m)\u001b[49m\n",
      "\u001b[0;31mTypeError\u001b[0m: 'float' object cannot be interpreted as an integer"
     ]
    }
   ],
   "source": [
    "## load reforecast data\n",
    "varname = 'uv1000' ## 'freezing_level' or 'ivt'\n",
    "fdate = '20131118' ## initialization date in YYYYMMDD format\n",
    "model = 'GEFSv12_reforecast' ## 'GEFSv12_reforecast', 'GFS', 'GEFS', 'GEFS_archive'\n",
    "\n",
    "forecast, ds = mclim_func.run_compare_mclimate_forecast(varname, fdate, model, server='expanse')\n",
    "\n",
    "## load archived forecast data\n",
    "fdate = '20201128' ## initialization date in YYYYMMDD format\n",
    "model = 'GEFS_archive' ## 'GEFSv12_reforecast', 'GFS', 'GEFS', 'GEFS_archive'\n",
    "\n",
    "forecast2, ds2 =  mclim_func.run_compare_mclimate_forecast(varname, fdate, model, server='expanse')\n",
    "\n",
    "st1 = 96\n",
    "st2 = 96\n",
    "fc_lst = [forecast.sel(step=st1), forecast2.sel(step=st2)]\n",
    "ds_lst = [ds.sel(step=st1), ds2.sel(step=st2)]\n",
    "\n",
    "fname = '../figs/ams_poster_{0}'.format(varname)\n",
    "plot_mclimate_forecast_comparison(ds_lst, fc_lst, varname, fname, ext=[-170., -120., 40., 65.])"
   ]
  },
  {
   "cell_type": "code",
   "execution_count": null,
   "id": "3e50ec90-075e-4027-9bee-a7e9c509da12",
   "metadata": {},
   "outputs": [],
   "source": []
  }
 ],
 "metadata": {
  "kernelspec": {
   "display_name": "Python (SEAK-impacts)",
   "language": "python",
   "name": "seak-impacts"
  },
  "language_info": {
   "codemirror_mode": {
    "name": "ipython",
    "version": 3
   },
   "file_extension": ".py",
   "mimetype": "text/x-python",
   "name": "python",
   "nbconvert_exporter": "python",
   "pygments_lexer": "ipython3",
   "version": "3.12.1"
  }
 },
 "nbformat": 4,
 "nbformat_minor": 5
}
