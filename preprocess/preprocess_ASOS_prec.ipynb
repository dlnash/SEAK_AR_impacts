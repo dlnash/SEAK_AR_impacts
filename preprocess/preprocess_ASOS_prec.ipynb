{
 "cells": [
  {
   "cell_type": "code",
   "execution_count": 7,
   "id": "84be4709-2c2b-4b84-904e-1b9a27f8d75f",
   "metadata": {},
   "outputs": [],
   "source": [
    "## import libraries\n",
    "import os, sys\n",
    "import yaml\n",
    "import xarray as xr\n",
    "import pandas as pd\n",
    "import numpy as np\n",
    "import metpy.calc as mpcalc\n",
    "from metpy.units import units\n",
    "from datetime import datetime, timedelta\n",
    "\n",
    "%matplotlib inline\n",
    "\n",
    "sys.path.append('../modules')\n",
    "import ar_funcs"
   ]
  },
  {
   "cell_type": "code",
   "execution_count": 8,
   "id": "5f957c33-dd23-474d-8c20-8fd4c587d270",
   "metadata": {},
   "outputs": [],
   "source": [
    "path_to_data = '/data/projects/Comet/cwp140/data/'      # project data -- read only\n",
    "path_to_out  = '../out/'       # output files (numerical results, intermediate datafiles) -- read & write\n",
    "path_to_figs = '../figs/'      # figures"
   ]
  },
  {
   "cell_type": "code",
   "execution_count": 35,
   "id": "556e69db-3978-41f8-a556-dd89ed4ea213",
   "metadata": {},
   "outputs": [
    {
     "name": "stdout",
     "output_type": "stream",
     "text": [
      "2019-08-26 18:00:00 2019-08-28 06:00:00\n"
     ]
    }
   ],
   "source": [
    "## read AR duration file\n",
    "duration_df = pd.read_csv('../out/AR_track_duration_SEAK.csv')\n",
    "duration_df['start_date'] = pd.to_datetime(duration_df['start_date'])\n",
    "duration_df['end_date'] = pd.to_datetime(duration_df['end_date'])\n",
    "\n",
    "start_date = duration_df.iloc[-1]['start_date']\n",
    "end_date = duration_df.iloc[-1]['end_date']+ pd.Timedelta(hours=24)\n",
    "print(start_date, end_date)"
   ]
  },
  {
   "cell_type": "code",
   "execution_count": 36,
   "id": "0612e4c4-be10-4004-9361-e83919322385",
   "metadata": {},
   "outputs": [
    {
     "data": {
      "text/html": [
       "<div>\n",
       "<style scoped>\n",
       "    .dataframe tbody tr th:only-of-type {\n",
       "        vertical-align: middle;\n",
       "    }\n",
       "\n",
       "    .dataframe tbody tr th {\n",
       "        vertical-align: top;\n",
       "    }\n",
       "\n",
       "    .dataframe thead th {\n",
       "        text-align: right;\n",
       "    }\n",
       "</style>\n",
       "<table border=\"1\" class=\"dataframe\">\n",
       "  <thead>\n",
       "    <tr style=\"text-align: right;\">\n",
       "      <th></th>\n",
       "      <th>station_ID</th>\n",
       "      <th>prec_1h</th>\n",
       "      <th>prec_3h</th>\n",
       "      <th>prec_6h</th>\n",
       "      <th>prec24h</th>\n",
       "    </tr>\n",
       "    <tr>\n",
       "      <th>date_time</th>\n",
       "      <th></th>\n",
       "      <th></th>\n",
       "      <th></th>\n",
       "      <th></th>\n",
       "      <th></th>\n",
       "    </tr>\n",
       "  </thead>\n",
       "  <tbody>\n",
       "    <tr>\n",
       "      <th>2002-11-05 20:50:00</th>\n",
       "      <td>PAGY</td>\n",
       "      <td>0.0</td>\n",
       "      <td>0.508</td>\n",
       "      <td>NaN</td>\n",
       "      <td>NaN</td>\n",
       "    </tr>\n",
       "    <tr>\n",
       "      <th>2002-11-05 21:50:00</th>\n",
       "      <td>PAGY</td>\n",
       "      <td>0.0</td>\n",
       "      <td>NaN</td>\n",
       "      <td>NaN</td>\n",
       "      <td>NaN</td>\n",
       "    </tr>\n",
       "    <tr>\n",
       "      <th>2002-11-05 22:50:00</th>\n",
       "      <td>PAGY</td>\n",
       "      <td>0.0</td>\n",
       "      <td>NaN</td>\n",
       "      <td>NaN</td>\n",
       "      <td>NaN</td>\n",
       "    </tr>\n",
       "    <tr>\n",
       "      <th>2002-11-05 23:45:00</th>\n",
       "      <td>PAGY</td>\n",
       "      <td>NaN</td>\n",
       "      <td>NaN</td>\n",
       "      <td>NaN</td>\n",
       "      <td>NaN</td>\n",
       "    </tr>\n",
       "    <tr>\n",
       "      <th>2002-11-05 23:50:00</th>\n",
       "      <td>PAGY</td>\n",
       "      <td>0.0</td>\n",
       "      <td>NaN</td>\n",
       "      <td>0.508</td>\n",
       "      <td>NaN</td>\n",
       "    </tr>\n",
       "    <tr>\n",
       "      <th>...</th>\n",
       "      <td>...</td>\n",
       "      <td>...</td>\n",
       "      <td>...</td>\n",
       "      <td>...</td>\n",
       "      <td>...</td>\n",
       "    </tr>\n",
       "    <tr>\n",
       "      <th>2019-12-31 22:50:00</th>\n",
       "      <td>PAGY</td>\n",
       "      <td>NaN</td>\n",
       "      <td>NaN</td>\n",
       "      <td>NaN</td>\n",
       "      <td>NaN</td>\n",
       "    </tr>\n",
       "    <tr>\n",
       "      <th>2019-12-31 22:51:00</th>\n",
       "      <td>PAGY</td>\n",
       "      <td>NaN</td>\n",
       "      <td>NaN</td>\n",
       "      <td>NaN</td>\n",
       "      <td>NaN</td>\n",
       "    </tr>\n",
       "    <tr>\n",
       "      <th>2019-12-31 22:53:00</th>\n",
       "      <td>PAGY</td>\n",
       "      <td>NaN</td>\n",
       "      <td>NaN</td>\n",
       "      <td>NaN</td>\n",
       "      <td>NaN</td>\n",
       "    </tr>\n",
       "    <tr>\n",
       "      <th>2019-12-31 22:55:00</th>\n",
       "      <td>PAGY</td>\n",
       "      <td>NaN</td>\n",
       "      <td>NaN</td>\n",
       "      <td>NaN</td>\n",
       "      <td>NaN</td>\n",
       "    </tr>\n",
       "    <tr>\n",
       "      <th>2019-12-31 23:00:00</th>\n",
       "      <td>PAGY</td>\n",
       "      <td>NaN</td>\n",
       "      <td>NaN</td>\n",
       "      <td>NaN</td>\n",
       "      <td>NaN</td>\n",
       "    </tr>\n",
       "  </tbody>\n",
       "</table>\n",
       "<p>499402 rows × 5 columns</p>\n",
       "</div>"
      ],
      "text/plain": [
       "                    station_ID  prec_1h  prec_3h  prec_6h  prec24h\n",
       "date_time                                                         \n",
       "2002-11-05 20:50:00       PAGY      0.0    0.508      NaN      NaN\n",
       "2002-11-05 21:50:00       PAGY      0.0      NaN      NaN      NaN\n",
       "2002-11-05 22:50:00       PAGY      0.0      NaN      NaN      NaN\n",
       "2002-11-05 23:45:00       PAGY      NaN      NaN      NaN      NaN\n",
       "2002-11-05 23:50:00       PAGY      0.0      NaN    0.508      NaN\n",
       "...                        ...      ...      ...      ...      ...\n",
       "2019-12-31 22:50:00       PAGY      NaN      NaN      NaN      NaN\n",
       "2019-12-31 22:51:00       PAGY      NaN      NaN      NaN      NaN\n",
       "2019-12-31 22:53:00       PAGY      NaN      NaN      NaN      NaN\n",
       "2019-12-31 22:55:00       PAGY      NaN      NaN      NaN      NaN\n",
       "2019-12-31 23:00:00       PAGY      NaN      NaN      NaN      NaN\n",
       "\n",
       "[499402 rows x 5 columns]"
      ]
     },
     "execution_count": 36,
     "metadata": {},
     "output_type": "execute_result"
    }
   ],
   "source": [
    "## load the precipitation datasets \n",
    "fname = '/home/dnash/comet_data/downloads/mesowest/PAGY.2019-12-31.csv'\n",
    "prec_df = pd.read_csv(fname, skiprows=12, names=['station_ID', 'date_time', 'prec_1h', 'prec_3h', 'prec_6h', 'prec24h'])\n",
    "prec_df['date_time'] = pd.to_datetime(prec_df['date_time']).dt.tz_localize(None)\n",
    "prec_df = prec_df.set_index(['date_time'])\n",
    "prec_df"
   ]
  },
  {
   "cell_type": "code",
   "execution_count": 37,
   "id": "5fc8d971-5b7e-4c16-89b3-9db8753228cf",
   "metadata": {},
   "outputs": [
    {
     "name": "stdout",
     "output_type": "stream",
     "text": [
      "140.562\n",
      "5.08\n",
      "10.414\n",
      "13.716\n"
     ]
    }
   ],
   "source": [
    "## loop through each row in the AR duration df\n",
    "idx = (prec_df.index >= start_date) & (prec_df.index <= end_date)\n",
    "df = prec_df.loc[idx]\n",
    "df\n",
    "## pull out the total accumulated preciptiation\n",
    "accum_prec = df['prec_1h'].sum()\n",
    "print(accum_prec)\n",
    "## pull peak 1h precip rate for duration of event\n",
    "peak_1hr = df['prec_1h'].max()\n",
    "print(peak_1hr)\n",
    "## pull peak 3h precip rate for duration of event\n",
    "print(df['prec_3h'].max())\n",
    "## pull peak 6h precip rate for duration of event\n",
    "print(df['prec_6h'].max())\n",
    "## pull peak 12h precip rate for duration of event\n",
    "## pull peak 24h precip rate for duration of event"
   ]
  },
  {
   "cell_type": "code",
   "execution_count": 39,
   "id": "77b6695a-7888-4976-927b-53df90ad878f",
   "metadata": {},
   "outputs": [
    {
     "data": {
      "text/plain": [
       "<AxesSubplot:xlabel='date_time'>"
      ]
     },
     "execution_count": 39,
     "metadata": {},
     "output_type": "execute_result"
    },
    {
     "data": {
      "image/png": "[encoded data removed]",
      "text/plain": [
       "<Figure size 640x480 with 1 Axes>"
      ]
     },
     "metadata": {},
     "output_type": "display_data"
    }
   ],
   "source": [
    "df.prec_1h.plot()"
   ]
  },
  {
   "cell_type": "code",
   "execution_count": 26,
   "id": "204f80b5-fe65-42b6-a83a-ea237d460461",
   "metadata": {},
   "outputs": [
    {
     "data": {
      "text/html": [
       "<div>\n",
       "<style scoped>\n",
       "    .dataframe tbody tr th:only-of-type {\n",
       "        vertical-align: middle;\n",
       "    }\n",
       "\n",
       "    .dataframe tbody tr th {\n",
       "        vertical-align: top;\n",
       "    }\n",
       "\n",
       "    .dataframe thead th {\n",
       "        text-align: right;\n",
       "    }\n",
       "</style>\n",
       "<table border=\"1\" class=\"dataframe\">\n",
       "  <thead>\n",
       "    <tr style=\"text-align: right;\">\n",
       "      <th></th>\n",
       "      <th>prec_1h</th>\n",
       "      <th>prec_3h</th>\n",
       "      <th>prec_6h</th>\n",
       "      <th>prec24h</th>\n",
       "    </tr>\n",
       "  </thead>\n",
       "  <tbody>\n",
       "    <tr>\n",
       "      <th>count</th>\n",
       "      <td>82574.000000</td>\n",
       "      <td>6184.000000</td>\n",
       "      <td>8159.000000</td>\n",
       "      <td>2524.000000</td>\n",
       "    </tr>\n",
       "    <tr>\n",
       "      <th>mean</th>\n",
       "      <td>0.336560</td>\n",
       "      <td>0.640171</td>\n",
       "      <td>0.993782</td>\n",
       "      <td>4.319912</td>\n",
       "    </tr>\n",
       "    <tr>\n",
       "      <th>std</th>\n",
       "      <td>0.528214</td>\n",
       "      <td>1.342412</td>\n",
       "      <td>2.147550</td>\n",
       "      <td>5.841492</td>\n",
       "    </tr>\n",
       "    <tr>\n",
       "      <th>min</th>\n",
       "      <td>0.000000</td>\n",
       "      <td>0.000000</td>\n",
       "      <td>0.000000</td>\n",
       "      <td>0.254000</td>\n",
       "    </tr>\n",
       "    <tr>\n",
       "      <th>25%</th>\n",
       "      <td>0.025000</td>\n",
       "      <td>0.025000</td>\n",
       "      <td>0.025000</td>\n",
       "      <td>0.762000</td>\n",
       "    </tr>\n",
       "    <tr>\n",
       "      <th>50%</th>\n",
       "      <td>0.254000</td>\n",
       "      <td>0.025000</td>\n",
       "      <td>0.025000</td>\n",
       "      <td>2.032000</td>\n",
       "    </tr>\n",
       "    <tr>\n",
       "      <th>75%</th>\n",
       "      <td>0.508000</td>\n",
       "      <td>0.508000</td>\n",
       "      <td>1.016000</td>\n",
       "      <td>5.334000</td>\n",
       "    </tr>\n",
       "    <tr>\n",
       "      <th>max</th>\n",
       "      <td>12.446000</td>\n",
       "      <td>17.780000</td>\n",
       "      <td>24.638000</td>\n",
       "      <td>52.324000</td>\n",
       "    </tr>\n",
       "  </tbody>\n",
       "</table>\n",
       "</div>"
      ],
      "text/plain": [
       "            prec_1h      prec_3h      prec_6h      prec24h\n",
       "count  82574.000000  6184.000000  8159.000000  2524.000000\n",
       "mean       0.336560     0.640171     0.993782     4.319912\n",
       "std        0.528214     1.342412     2.147550     5.841492\n",
       "min        0.000000     0.000000     0.000000     0.254000\n",
       "25%        0.025000     0.025000     0.025000     0.762000\n",
       "50%        0.254000     0.025000     0.025000     2.032000\n",
       "75%        0.508000     0.508000     1.016000     5.334000\n",
       "max       12.446000    17.780000    24.638000    52.324000"
      ]
     },
     "execution_count": 26,
     "metadata": {},
     "output_type": "execute_result"
    }
   ],
   "source": [
    "prec_df.describe()"
   ]
  }
 ],
 "metadata": {
  "kernelspec": {
   "display_name": "Python (SEAK-clim)",
   "language": "python",
   "name": "seak-clim"
  },
  "language_info": {
   "codemirror_mode": {
    "name": "ipython",
    "version": 3
   },
   "file_extension": ".py",
   "mimetype": "text/x-python",
   "name": "python",
   "nbconvert_exporter": "python",
   "pygments_lexer": "ipython3",
   "version": "3.10.6"
  }
 },
 "nbformat": 4,
 "nbformat_minor": 5
}
