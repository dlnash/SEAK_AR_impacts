{
 "cells": [
  {
   "cell_type": "code",
   "execution_count": null,
   "id": "f98e72b5-82e2-473e-9530-1ffb041e3e61",
   "metadata": {},
   "outputs": [],
   "source": [
    "import pandas as pd\n",
    "from datetime import datetime, timedelta\n",
    "import numpy as np"
   ]
  },
  {
   "cell_type": "code",
   "execution_count": null,
   "id": "295d35fd-7b52-4339-85e2-3fef4a2feba3",
   "metadata": {},
   "outputs": [],
   "source": [
    "# Set up paths\n",
    "\n",
    "path_to_data = '/data/projects/Comet/cwp140/'      # project data -- read only\n",
    "path_to_out  = '../out/'       # output files (numerical results, intermediate datafiles) -- read & write\n",
    "path_to_figs = '../figs/'      # figures"
   ]
  },
  {
   "cell_type": "code",
   "execution_count": null,
   "id": "1d8f9b67-3544-46ac-b7ae-ba2b8998bc91",
   "metadata": {},
   "outputs": [],
   "source": [
    "# fname = path_to_data + 'downloads/SEAK_flood_catalog.csv'\n",
    "fname = '/data/projects/Comet/cwp140/downloads/ar_impact_info.csv'\n",
    "df = pd.read_csv(fname)\n",
    "# some cleaning\n",
    "# df = df.drop(['Unnamed: 6', 'Unnamed: 7', 'Unnamed: 8', 'Unnamed: 9','Unnamed: 10', 'Unnamed: 11','Unnamed: 12','Unnamed: 13','Unnamed: 14'], axis=1)\n",
    "df"
   ]
  },
  {
   "cell_type": "code",
   "execution_count": null,
   "id": "5d9af845-3453-4d51-9d14-865cddeeb191",
   "metadata": {},
   "outputs": [],
   "source": [
    "# set start and end dates to match WRF data\n",
    "start_date = '1980-01-01 0:00'\n",
    "end_date = '2022-12-31 23:00'"
   ]
  },
  {
   "cell_type": "code",
   "execution_count": null,
   "id": "739e47b2-1fd6-49c9-9ad4-4ef5c1d37a62",
   "metadata": {},
   "outputs": [],
   "source": [
    "def get_impact_dates_from_aaron_df(df, freq):\n",
    "    \n",
    "    if freq == '1D':\n",
    "        impactdates = df['Impact dates'].values\n",
    "    \n",
    "    elif freq == '1H':\n",
    "        dt_lst = []\n",
    "        for index, row in df.iterrows():\n",
    "            current_date = row['Impact dates']\n",
    "            dt = datetime.strptime(current_date, \"%m/%d/%Y\")\n",
    "            dt = pd.date_range(dt, dt + timedelta(hours=23), freq=freq)\n",
    "            dt_lst.append(dt)\n",
    "        impactdates = dt_lst[0].union_many(dt_lst[1:])\n",
    "    \n",
    "    \n",
    "    # put into dataframe\n",
    "    d = {'impactdates': impactdates}\n",
    "    df = pd.DataFrame(data=d)\n",
    "\n",
    "    # keep only unique dates\n",
    "    df.index = pd.to_datetime(df['impactdates'])\n",
    "    df_new = df['impactdates'].unique()\n",
    "    # make a new df with only unique dates\n",
    "    d = {'dates': df_new}\n",
    "    df = pd.DataFrame(data=d)\n",
    "    df.index = pd.to_datetime(df.dates)\n",
    "    df = df.drop(['dates'], axis=1)\n",
    "    df = df.reset_index()\n",
    "    df['impact'] = 1\n",
    "\n",
    "\n",
    "    # date array with all days\n",
    "    dates_allDays = pd.date_range(start=start_date, end=end_date, freq=freq)\n",
    "    arr_allDays = np.zeros(len(dates_allDays), dtype=int)\n",
    "\n",
    "    # Loop over ar days and match to ar_full \n",
    "    for i, date in enumerate(df['dates'].values):\n",
    "        idx = np.where(dates_allDays == date)\n",
    "        arr_allDays[idx] = 1\n",
    "\n",
    "    # Create dataframe\n",
    "    data = {'IMPACT':arr_allDays}\n",
    "    df_all = pd.DataFrame(data, index=dates_allDays)\n",
    "    \n",
    "    return df_all"
   ]
  },
  {
   "cell_type": "code",
   "execution_count": null,
   "id": "83b0ccfc-0a80-4ce7-b15a-35d680efc28d",
   "metadata": {},
   "outputs": [],
   "source": [
    "impactdates_hourly = get_impact_dates_from_aaron_df(df, '1H')\n",
    "impactdates_daily = get_impact_dates_from_aaron_df(df, '1D')"
   ]
  },
  {
   "cell_type": "code",
   "execution_count": null,
   "id": "172b9226-7363-47e0-bcf2-0a6bfcf9c6ce",
   "metadata": {},
   "outputs": [],
   "source": [
    "## save to csv file\n",
    "impactdates_hourly.to_csv(path_to_out + 'SEAK_impactdates_hourly.csv')\n",
    "impactdates_daily.to_csv(path_to_out + 'SEAK_impactdates_daily.csv')"
   ]
  },
  {
   "cell_type": "code",
   "execution_count": null,
   "id": "a466fb04-decf-4e78-a0ad-ac5b35906638",
   "metadata": {},
   "outputs": [],
   "source": []
  }
 ],
 "metadata": {
  "kernelspec": {
   "display_name": "Python (SEAK-impacts)",
   "language": "python",
   "name": "seak-impacts"
  },
  "language_info": {
   "codemirror_mode": {
    "name": "ipython",
    "version": 3
   },
   "file_extension": ".py",
   "mimetype": "text/x-python",
   "name": "python",
   "nbconvert_exporter": "python",
   "pygments_lexer": "ipython3",
   "version": "3.12.1"
  }
 },
 "nbformat": 4,
 "nbformat_minor": 5
}
