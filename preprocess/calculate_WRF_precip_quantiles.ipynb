{
 "cells": [
  {
   "cell_type": "code",
   "execution_count": null,
   "id": "6bfa2ec8-83e7-4524-97cc-e5f0bc38f04d",
   "metadata": {},
   "outputs": [],
   "source": [
    "# Standard Python modules\n",
    "import os, sys\n",
    "import numpy as np\n",
    "import pandas as pd\n",
    "import xarray as xr\n",
    "import datetime as dt"
   ]
  },
  {
   "cell_type": "code",
   "execution_count": null,
   "id": "2f94da12-9237-4735-a359-a70e8c9ddcb5",
   "metadata": {},
   "outputs": [],
   "source": [
    "# Set up paths\n",
    "\n",
    "path_to_data = '/expanse/nfs/cw3e/cwp140/'     # project data -- read only\n",
    "path_to_out  = '../out/'       # output files (numerical results, intermediate datafiles) -- read & write\n",
    "path_to_figs = '../figs/'      # figures"
   ]
  },
  {
   "cell_type": "code",
   "execution_count": null,
   "id": "4ace6c8b-fd70-4a8d-9e21-eafcb873ffb6",
   "metadata": {},
   "outputs": [],
   "source": [
    "temporal_res = '6hr'\n",
    "community_lst = ['Hoonah', 'Skagway', 'Klukwan', 'Yakutat', 'Craig', 'Kasaan']\n",
    "varname = 'PCPT' # 'PCPT' or 'UV'\n",
    "\n",
    "fname_pattern = path_to_data + 'preprocessed/SEAK-WRF-{0}/WRFDS_{0}_*.nc'.format(varname)\n",
    "wrf = xr.open_mfdataset(fname_pattern, combine='by_coords', engine='netcdf4')\n",
    "if temporal_res == '6hr':\n",
    "    wrf = wrf.resample(time=\"6H\").sum('time') # resample WRF data to be mm per day\n",
    "elif (temporal_res == 'daily') & (varname == 'PCPT'):\n",
    "    wrf = wrf.resample(time=\"1D\").sum('time') # resample WRF data to be mm per day\n",
    "    \n",
    "elif (temporal_res == 'daily') & (varname == 'UV'):\n",
    "    wrf = wrf.sel(lev='1000')\n",
    "    wrf = wrf.resample(time=\"1D\").mean('time') # resample WRF data to be m s-1\n",
    "\n",
    "wrf"
   ]
  },
  {
   "cell_type": "code",
   "execution_count": null,
   "id": "349aec29-7951-4b39-a44c-4f35d6704141",
   "metadata": {},
   "outputs": [],
   "source": [
    "%%time\n",
    "## need to rechunk so time is a single chunk\n",
    "wrf = wrf.chunk(dict(time=-1))\n",
    "\n",
    "quantile_arr = np.array([0, .75, .95])\n",
    "\n",
    "## Calculate the percentiles\n",
    "quantile = wrf.quantile(quantile_arr, dim=['time'], skipna=True)"
   ]
  },
  {
   "cell_type": "code",
   "execution_count": null,
   "id": "1d6b1c63-e8a9-4ba5-b9d3-c198e734827a",
   "metadata": {},
   "outputs": [],
   "source": [
    "quantile"
   ]
  },
  {
   "cell_type": "code",
   "execution_count": null,
   "id": "d7e13cb6-90d6-4074-b714-f1c6a7713bce",
   "metadata": {},
   "outputs": [],
   "source": [
    "%%time\n",
    "# write to netCDF\n",
    "fname = os.path.join(path_to_data, 'preprocessed/SEAK-WRF-PCPT/PCPT_quantiles_{0}.nc'.format(temporal_res))\n",
    "quantile.load().to_netcdf(path=fname, mode = 'w', format='NETCDF4')"
   ]
  },
  {
   "cell_type": "code",
   "execution_count": null,
   "id": "a9cfc4b5-c62c-4a6b-9442-f560e0e11dcb",
   "metadata": {},
   "outputs": [],
   "source": []
  }
 ],
 "metadata": {
  "kernelspec": {
   "display_name": "Python (SEAK-impacts)",
   "language": "python",
   "name": "seak-impacts"
  },
  "language_info": {
   "codemirror_mode": {
    "name": "ipython",
    "version": 3
   },
   "file_extension": ".py",
   "mimetype": "text/x-python",
   "name": "python",
   "nbconvert_exporter": "python",
   "pygments_lexer": "ipython3",
   "version": "3.12.1"
  }
 },
 "nbformat": 4,
 "nbformat_minor": 5
}
